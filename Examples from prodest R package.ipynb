{
 "cells": [
  {
   "cell_type": "markdown",
   "metadata": {},
   "source": [
    "This notebook presents examples of the prodest package by Gabriele Rovigatti. The examples are taken from the [package manual](https://cran.r-project.org/web/packages/prodest/prodest.pdf)."
   ]
  },
  {
   "cell_type": "code",
   "execution_count": 64,
   "metadata": {},
   "outputs": [],
   "source": [
    "require(prodest)"
   ]
  },
  {
   "cell_type": "markdown",
   "metadata": {},
   "source": [
    "# Printing Latex\n",
    "To print the $\\LaTeX$ output from the prodest `printProd` command in Jupyter Notebooks you need to paste it into a markdown cell and modify it slightly to satisfy MathJax rendering. The only modificiation needed is to replace `tabular` with `array`."
   ]
  },
  {
   "cell_type": "markdown",
   "metadata": {},
   "source": [
    "# panelSim"
   ]
  },
  {
   "cell_type": "code",
   "execution_count": 65,
   "metadata": {},
   "outputs": [
    {
     "name": "stderr",
     "output_type": "stream",
     "text": [
      "The following objects are masked from panel.data (pos = 3):\n",
      "\n",
      "    fX, idvar, pX1, pX2, pX3, pX4, sX, timevar, Y\n",
      "\n",
      "The following objects are masked from panel.data (pos = 4):\n",
      "\n",
      "    fX, idvar, pX1, pX2, pX3, pX4, sX, timevar, Y\n",
      "\n",
      "The following objects are masked from panel.data (pos = 6):\n",
      "\n",
      "    fX, idvar, pX1, pX2, pX3, pX4, sX, timevar, Y\n",
      "\n"
     ]
    },
    {
     "name": "stdout",
     "output_type": "stream",
     "text": [
      "\\begin{tabular}{ccccccc}\\hline\\hline\n",
      " & & LP & & ACF & & WRDG \\\\\\hline\n",
      " fX1 & & 0.656 & & 0.443 & & 0.835 \\\\\n",
      " & & (0.021) & & (0.043) & & (0.023) \\\\\n",
      " &  &  &  \\\\\n",
      " sX1 & & 0.382 & & 0.583 & & 0.168 \\\\\n",
      " & & (0.037) & & (0.086) & & (0.184) \\\\\n",
      " &  &  &  \\\\\n",
      " &  &  &  \\\\\n",
      "N & & 500 & & 500 & & 500 \\\\\\hline\\hline\n",
      "\\end{tabular}"
     ]
    }
   ],
   "source": [
    "## Simulate a dataset with 100 firms (N=100) over 50 time periods (T = 50).\n",
    "## \\code{Panelsim()} delivers the last 10% of usable time per panel.\n",
    "panel.data <- panelSim(N = 100, T = 50)\n",
    "attach(panel.data)\n",
    "\n",
    "## Estimate various models\n",
    "ACF.fit <- prodestACF(Y, fX, sX, pX2, idvar, timevar, theta0 = c(.5,.5))\n",
    "LP.fit <- prodestLP(Y, fX, sX, pX2, idvar, timevar)\n",
    "WRDG.fit <- prodestWRDG(Y, fX, sX, pX3, idvar, timevar, R = 5)\n",
    "\n",
    "## print results in lateX tabular format\n",
    "printProd(list(LP.fit, ACF.fit, WRDG.fit))"
   ]
  },
  {
   "cell_type": "markdown",
   "metadata": {},
   "source": [
    "$$\n",
    "\\begin{array}{ccccccc}\\hline\\hline\n",
    " & & LP & & ACF & & WRDG \\\\\\hline\n",
    " fX1 & & 0.656 & & 0.443 & & 0.835 \\\\\n",
    " & & (0.021) & & (0.043) & & (0.023) \\\\\n",
    " &  &  &  \\\\\n",
    " sX1 & & 0.382 & & 0.583 & & 0.168 \\\\\n",
    " & & (0.037) & & (0.086) & & (0.184) \\\\\n",
    " &  &  &  \\\\\n",
    " &  &  &  \\\\\n",
    "N & & 500 & & 500 & & 500 \\\\\\hline\\hline\n",
    "\\end{array}\n",
    "$$"
   ]
  },
  {
   "cell_type": "markdown",
   "metadata": {},
   "source": [
    "# Data\n",
    "\n",
    " Chilean data on production.The full version is publicly available at http://www.ine.cl/canales/chile_estadistico/estadisticas_economicas/industria/series_estadisticas/series_estadisticas_enia.php\n",
    " \n",
    "* Y : vector of log value added\n",
    "* sX : vector of log capital\n",
    "* fX : matrix of log skilled labor and log unskilled labor\n",
    "* pX : vector of log electricity\n",
    "* cX : vector of log water\n",
    "* inv : vector of log investment \n",
    "* idvar : vector of panel identifier\n",
    "* timevar : vector of time\n",
    "\n",
    "s for state. f for free. c for control. p for proxy."
   ]
  },
  {
   "cell_type": "code",
   "execution_count": 66,
   "metadata": {},
   "outputs": [
    {
     "data": {
      "text/html": [
       "<table>\n",
       "<thead><tr><th scope=col>Y</th><th scope=col>sX</th><th scope=col>fX1</th><th scope=col>fX2</th><th scope=col>pX</th><th scope=col>cX</th><th scope=col>inv</th><th scope=col>idvar</th><th scope=col>timevar</th></tr></thead>\n",
       "<tbody>\n",
       "\t<tr><td>10.224230</td><td> 5.521461</td><td>0.000000 </td><td>0.0000000</td><td>3.091043 </td><td> 4.491633</td><td> 4.491633</td><td>10007    </td><td>1999     </td></tr>\n",
       "\t<tr><td>10.228210</td><td> 5.525453</td><td>0.000000 </td><td>0.0000000</td><td>2.995732 </td><td> 4.502773</td><td> 4.502773</td><td>10007    </td><td>2000     </td></tr>\n",
       "\t<tr><td>10.230230</td><td> 8.991811</td><td>0.000000 </td><td>0.0000000</td><td>2.995732 </td><td> 8.971534</td><td> 8.971534</td><td>10007    </td><td>2001     </td></tr>\n",
       "\t<tr><td> 8.989694</td><td> 9.079776</td><td>0.000000 </td><td>1.6094380</td><td>1.791759 </td><td> 8.489083</td><td> 8.489083</td><td>10007    </td><td>2002     </td></tr>\n",
       "\t<tr><td> 8.769663</td><td> 9.366232</td><td>0.000000 </td><td>1.0986120</td><td>1.609438 </td><td> 8.914953</td><td> 8.914953</td><td>10007    </td><td>2003     </td></tr>\n",
       "\t<tr><td>12.368220</td><td>12.364870</td><td>3.091043 </td><td>0.0000000</td><td>3.850147 </td><td>11.956280</td><td>11.956280</td><td>10016    </td><td>1996     </td></tr>\n",
       "\t<tr><td>12.404430</td><td>12.415080</td><td>3.091043 </td><td>0.0000000</td><td>2.995732 </td><td>11.978640</td><td>11.978640</td><td>10016    </td><td>1997     </td></tr>\n",
       "\t<tr><td>12.553770</td><td>12.473750</td><td>3.091043 </td><td>0.0000000</td><td>3.091043 </td><td>12.044080</td><td>12.044080</td><td>10016    </td><td>1998     </td></tr>\n",
       "\t<tr><td>12.503070</td><td>12.324800</td><td>2.995732 </td><td>0.0000000</td><td>2.995732 </td><td>11.766410</td><td>11.766410</td><td>10016    </td><td>1999     </td></tr>\n",
       "\t<tr><td>12.522590</td><td>12.456930</td><td>2.639057 </td><td>0.0000000</td><td>2.944439 </td><td>12.061070</td><td>12.061070</td><td>10016    </td><td>2000     </td></tr>\n",
       "\t<tr><td>12.355020</td><td>12.232580</td><td>2.639057 </td><td>0.0000000</td><td>3.433987 </td><td>11.612700</td><td>11.612700</td><td>10016    </td><td>2001     </td></tr>\n",
       "\t<tr><td>12.454090</td><td>12.357480</td><td>2.639057 </td><td>0.0000000</td><td>3.178054 </td><td>11.954460</td><td>11.954460</td><td>10016    </td><td>2002     </td></tr>\n",
       "\t<tr><td>12.239450</td><td>12.381590</td><td>2.484907 </td><td>0.0000000</td><td>3.295837 </td><td>11.930240</td><td>11.930240</td><td>10016    </td><td>2003     </td></tr>\n",
       "\t<tr><td>12.060680</td><td>11.679800</td><td>1.386294 </td><td>2.8332130</td><td>4.836282 </td><td>11.256340</td><td>11.256340</td><td>10044    </td><td>1996     </td></tr>\n",
       "\t<tr><td>12.060640</td><td>11.484430</td><td>1.609438 </td><td>2.8332130</td><td>4.343805 </td><td>10.835150</td><td>10.835150</td><td>10044    </td><td>1997     </td></tr>\n",
       "\t<tr><td>12.254170</td><td>12.467050</td><td>1.609438 </td><td>2.5649490</td><td>4.875197 </td><td>12.305280</td><td>12.305280</td><td>10044    </td><td>1998     </td></tr>\n",
       "\t<tr><td>12.031390</td><td>12.484890</td><td>1.386294 </td><td>2.4849070</td><td>4.691348 </td><td>12.020260</td><td>12.020260</td><td>10044    </td><td>2000     </td></tr>\n",
       "\t<tr><td>11.734500</td><td>12.193770</td><td>1.386294 </td><td>0.0000000</td><td>4.477337 </td><td>11.514930</td><td>11.514930</td><td>10044    </td><td>2001     </td></tr>\n",
       "\t<tr><td>11.487690</td><td>12.552810</td><td>1.386294 </td><td>0.0000000</td><td>5.135798 </td><td>12.247270</td><td>12.247270</td><td>10044    </td><td>2002     </td></tr>\n",
       "\t<tr><td>11.468500</td><td>10.105570</td><td>2.079442 </td><td>0.6931472</td><td>1.945910 </td><td> 9.433647</td><td> 9.433647</td><td>10075    </td><td>1997     </td></tr>\n",
       "\t<tr><td>11.333890</td><td>10.183310</td><td>2.079442 </td><td>0.0000000</td><td>4.442651 </td><td> 9.651905</td><td> 9.651905</td><td>10075    </td><td>1998     </td></tr>\n",
       "\t<tr><td>11.227030</td><td>10.243310</td><td>1.945910 </td><td>0.6931472</td><td>3.178054 </td><td> 9.703737</td><td> 9.703737</td><td>10075    </td><td>1999     </td></tr>\n",
       "\t<tr><td>11.056410</td><td>10.080340</td><td>2.079442 </td><td>1.0986120</td><td>1.386294 </td><td> 9.349135</td><td> 9.349135</td><td>10075    </td><td>2000     </td></tr>\n",
       "\t<tr><td>10.860320</td><td>10.545370</td><td>1.945910 </td><td>0.6931472</td><td>1.386294 </td><td>10.216280</td><td>10.216280</td><td>10075    </td><td>2001     </td></tr>\n",
       "\t<tr><td>11.272510</td><td>10.568830</td><td>1.791759 </td><td>0.0000000</td><td>2.564949 </td><td>10.023800</td><td>10.023800</td><td>10075    </td><td>2002     </td></tr>\n",
       "</tbody>\n",
       "</table>\n"
      ],
      "text/latex": [
       "\\begin{tabular}{r|lllllllll}\n",
       " Y & sX & fX1 & fX2 & pX & cX & inv & idvar & timevar\\\\\n",
       "\\hline\n",
       "\t 10.224230 &  5.521461 & 0.000000  & 0.0000000 & 3.091043  &  4.491633 &  4.491633 & 10007     & 1999     \\\\\n",
       "\t 10.228210 &  5.525453 & 0.000000  & 0.0000000 & 2.995732  &  4.502773 &  4.502773 & 10007     & 2000     \\\\\n",
       "\t 10.230230 &  8.991811 & 0.000000  & 0.0000000 & 2.995732  &  8.971534 &  8.971534 & 10007     & 2001     \\\\\n",
       "\t  8.989694 &  9.079776 & 0.000000  & 1.6094380 & 1.791759  &  8.489083 &  8.489083 & 10007     & 2002     \\\\\n",
       "\t  8.769663 &  9.366232 & 0.000000  & 1.0986120 & 1.609438  &  8.914953 &  8.914953 & 10007     & 2003     \\\\\n",
       "\t 12.368220 & 12.364870 & 3.091043  & 0.0000000 & 3.850147  & 11.956280 & 11.956280 & 10016     & 1996     \\\\\n",
       "\t 12.404430 & 12.415080 & 3.091043  & 0.0000000 & 2.995732  & 11.978640 & 11.978640 & 10016     & 1997     \\\\\n",
       "\t 12.553770 & 12.473750 & 3.091043  & 0.0000000 & 3.091043  & 12.044080 & 12.044080 & 10016     & 1998     \\\\\n",
       "\t 12.503070 & 12.324800 & 2.995732  & 0.0000000 & 2.995732  & 11.766410 & 11.766410 & 10016     & 1999     \\\\\n",
       "\t 12.522590 & 12.456930 & 2.639057  & 0.0000000 & 2.944439  & 12.061070 & 12.061070 & 10016     & 2000     \\\\\n",
       "\t 12.355020 & 12.232580 & 2.639057  & 0.0000000 & 3.433987  & 11.612700 & 11.612700 & 10016     & 2001     \\\\\n",
       "\t 12.454090 & 12.357480 & 2.639057  & 0.0000000 & 3.178054  & 11.954460 & 11.954460 & 10016     & 2002     \\\\\n",
       "\t 12.239450 & 12.381590 & 2.484907  & 0.0000000 & 3.295837  & 11.930240 & 11.930240 & 10016     & 2003     \\\\\n",
       "\t 12.060680 & 11.679800 & 1.386294  & 2.8332130 & 4.836282  & 11.256340 & 11.256340 & 10044     & 1996     \\\\\n",
       "\t 12.060640 & 11.484430 & 1.609438  & 2.8332130 & 4.343805  & 10.835150 & 10.835150 & 10044     & 1997     \\\\\n",
       "\t 12.254170 & 12.467050 & 1.609438  & 2.5649490 & 4.875197  & 12.305280 & 12.305280 & 10044     & 1998     \\\\\n",
       "\t 12.031390 & 12.484890 & 1.386294  & 2.4849070 & 4.691348  & 12.020260 & 12.020260 & 10044     & 2000     \\\\\n",
       "\t 11.734500 & 12.193770 & 1.386294  & 0.0000000 & 4.477337  & 11.514930 & 11.514930 & 10044     & 2001     \\\\\n",
       "\t 11.487690 & 12.552810 & 1.386294  & 0.0000000 & 5.135798  & 12.247270 & 12.247270 & 10044     & 2002     \\\\\n",
       "\t 11.468500 & 10.105570 & 2.079442  & 0.6931472 & 1.945910  &  9.433647 &  9.433647 & 10075     & 1997     \\\\\n",
       "\t 11.333890 & 10.183310 & 2.079442  & 0.0000000 & 4.442651  &  9.651905 &  9.651905 & 10075     & 1998     \\\\\n",
       "\t 11.227030 & 10.243310 & 1.945910  & 0.6931472 & 3.178054  &  9.703737 &  9.703737 & 10075     & 1999     \\\\\n",
       "\t 11.056410 & 10.080340 & 2.079442  & 1.0986120 & 1.386294  &  9.349135 &  9.349135 & 10075     & 2000     \\\\\n",
       "\t 10.860320 & 10.545370 & 1.945910  & 0.6931472 & 1.386294  & 10.216280 & 10.216280 & 10075     & 2001     \\\\\n",
       "\t 11.272510 & 10.568830 & 1.791759  & 0.0000000 & 2.564949  & 10.023800 & 10.023800 & 10075     & 2002     \\\\\n",
       "\\end{tabular}\n"
      ],
      "text/markdown": [
       "\n",
       "Y | sX | fX1 | fX2 | pX | cX | inv | idvar | timevar | \n",
       "|---|---|---|---|---|---|---|---|---|---|---|---|---|---|---|---|---|---|---|---|---|---|---|---|---|\n",
       "| 10.224230 |  5.521461 | 0.000000  | 0.0000000 | 3.091043  |  4.491633 |  4.491633 | 10007     | 1999      | \n",
       "| 10.228210 |  5.525453 | 0.000000  | 0.0000000 | 2.995732  |  4.502773 |  4.502773 | 10007     | 2000      | \n",
       "| 10.230230 |  8.991811 | 0.000000  | 0.0000000 | 2.995732  |  8.971534 |  8.971534 | 10007     | 2001      | \n",
       "|  8.989694 |  9.079776 | 0.000000  | 1.6094380 | 1.791759  |  8.489083 |  8.489083 | 10007     | 2002      | \n",
       "|  8.769663 |  9.366232 | 0.000000  | 1.0986120 | 1.609438  |  8.914953 |  8.914953 | 10007     | 2003      | \n",
       "| 12.368220 | 12.364870 | 3.091043  | 0.0000000 | 3.850147  | 11.956280 | 11.956280 | 10016     | 1996      | \n",
       "| 12.404430 | 12.415080 | 3.091043  | 0.0000000 | 2.995732  | 11.978640 | 11.978640 | 10016     | 1997      | \n",
       "| 12.553770 | 12.473750 | 3.091043  | 0.0000000 | 3.091043  | 12.044080 | 12.044080 | 10016     | 1998      | \n",
       "| 12.503070 | 12.324800 | 2.995732  | 0.0000000 | 2.995732  | 11.766410 | 11.766410 | 10016     | 1999      | \n",
       "| 12.522590 | 12.456930 | 2.639057  | 0.0000000 | 2.944439  | 12.061070 | 12.061070 | 10016     | 2000      | \n",
       "| 12.355020 | 12.232580 | 2.639057  | 0.0000000 | 3.433987  | 11.612700 | 11.612700 | 10016     | 2001      | \n",
       "| 12.454090 | 12.357480 | 2.639057  | 0.0000000 | 3.178054  | 11.954460 | 11.954460 | 10016     | 2002      | \n",
       "| 12.239450 | 12.381590 | 2.484907  | 0.0000000 | 3.295837  | 11.930240 | 11.930240 | 10016     | 2003      | \n",
       "| 12.060680 | 11.679800 | 1.386294  | 2.8332130 | 4.836282  | 11.256340 | 11.256340 | 10044     | 1996      | \n",
       "| 12.060640 | 11.484430 | 1.609438  | 2.8332130 | 4.343805  | 10.835150 | 10.835150 | 10044     | 1997      | \n",
       "| 12.254170 | 12.467050 | 1.609438  | 2.5649490 | 4.875197  | 12.305280 | 12.305280 | 10044     | 1998      | \n",
       "| 12.031390 | 12.484890 | 1.386294  | 2.4849070 | 4.691348  | 12.020260 | 12.020260 | 10044     | 2000      | \n",
       "| 11.734500 | 12.193770 | 1.386294  | 0.0000000 | 4.477337  | 11.514930 | 11.514930 | 10044     | 2001      | \n",
       "| 11.487690 | 12.552810 | 1.386294  | 0.0000000 | 5.135798  | 12.247270 | 12.247270 | 10044     | 2002      | \n",
       "| 11.468500 | 10.105570 | 2.079442  | 0.6931472 | 1.945910  |  9.433647 |  9.433647 | 10075     | 1997      | \n",
       "| 11.333890 | 10.183310 | 2.079442  | 0.0000000 | 4.442651  |  9.651905 |  9.651905 | 10075     | 1998      | \n",
       "| 11.227030 | 10.243310 | 1.945910  | 0.6931472 | 3.178054  |  9.703737 |  9.703737 | 10075     | 1999      | \n",
       "| 11.056410 | 10.080340 | 2.079442  | 1.0986120 | 1.386294  |  9.349135 |  9.349135 | 10075     | 2000      | \n",
       "| 10.860320 | 10.545370 | 1.945910  | 0.6931472 | 1.386294  | 10.216280 | 10.216280 | 10075     | 2001      | \n",
       "| 11.272510 | 10.568830 | 1.791759  | 0.0000000 | 2.564949  | 10.023800 | 10.023800 | 10075     | 2002      | \n",
       "\n",
       "\n"
      ],
      "text/plain": [
       "   Y         sX        fX1      fX2       pX       cX        inv       idvar\n",
       "1  10.224230  5.521461 0.000000 0.0000000 3.091043  4.491633  4.491633 10007\n",
       "2  10.228210  5.525453 0.000000 0.0000000 2.995732  4.502773  4.502773 10007\n",
       "3  10.230230  8.991811 0.000000 0.0000000 2.995732  8.971534  8.971534 10007\n",
       "4   8.989694  9.079776 0.000000 1.6094380 1.791759  8.489083  8.489083 10007\n",
       "5   8.769663  9.366232 0.000000 1.0986120 1.609438  8.914953  8.914953 10007\n",
       "6  12.368220 12.364870 3.091043 0.0000000 3.850147 11.956280 11.956280 10016\n",
       "7  12.404430 12.415080 3.091043 0.0000000 2.995732 11.978640 11.978640 10016\n",
       "8  12.553770 12.473750 3.091043 0.0000000 3.091043 12.044080 12.044080 10016\n",
       "9  12.503070 12.324800 2.995732 0.0000000 2.995732 11.766410 11.766410 10016\n",
       "10 12.522590 12.456930 2.639057 0.0000000 2.944439 12.061070 12.061070 10016\n",
       "11 12.355020 12.232580 2.639057 0.0000000 3.433987 11.612700 11.612700 10016\n",
       "12 12.454090 12.357480 2.639057 0.0000000 3.178054 11.954460 11.954460 10016\n",
       "13 12.239450 12.381590 2.484907 0.0000000 3.295837 11.930240 11.930240 10016\n",
       "14 12.060680 11.679800 1.386294 2.8332130 4.836282 11.256340 11.256340 10044\n",
       "15 12.060640 11.484430 1.609438 2.8332130 4.343805 10.835150 10.835150 10044\n",
       "16 12.254170 12.467050 1.609438 2.5649490 4.875197 12.305280 12.305280 10044\n",
       "17 12.031390 12.484890 1.386294 2.4849070 4.691348 12.020260 12.020260 10044\n",
       "18 11.734500 12.193770 1.386294 0.0000000 4.477337 11.514930 11.514930 10044\n",
       "19 11.487690 12.552810 1.386294 0.0000000 5.135798 12.247270 12.247270 10044\n",
       "20 11.468500 10.105570 2.079442 0.6931472 1.945910  9.433647  9.433647 10075\n",
       "21 11.333890 10.183310 2.079442 0.0000000 4.442651  9.651905  9.651905 10075\n",
       "22 11.227030 10.243310 1.945910 0.6931472 3.178054  9.703737  9.703737 10075\n",
       "23 11.056410 10.080340 2.079442 1.0986120 1.386294  9.349135  9.349135 10075\n",
       "24 10.860320 10.545370 1.945910 0.6931472 1.386294 10.216280 10.216280 10075\n",
       "25 11.272510 10.568830 1.791759 0.0000000 2.564949 10.023800 10.023800 10075\n",
       "   timevar\n",
       "1  1999   \n",
       "2  2000   \n",
       "3  2001   \n",
       "4  2002   \n",
       "5  2003   \n",
       "6  1996   \n",
       "7  1997   \n",
       "8  1998   \n",
       "9  1999   \n",
       "10 2000   \n",
       "11 2001   \n",
       "12 2002   \n",
       "13 2003   \n",
       "14 1996   \n",
       "15 1997   \n",
       "16 1998   \n",
       "17 2000   \n",
       "18 2001   \n",
       "19 2002   \n",
       "20 1997   \n",
       "21 1998   \n",
       "22 1999   \n",
       "23 2000   \n",
       "24 2001   \n",
       "25 2002   "
      ]
     },
     "metadata": {},
     "output_type": "display_data"
    }
   ],
   "source": [
    "data(\"chilean\")\n",
    "chilean[0:25,]"
   ]
  },
  {
   "cell_type": "markdown",
   "metadata": {},
   "source": [
    "# printProd"
   ]
  },
  {
   "cell_type": "code",
   "execution_count": 67,
   "metadata": {},
   "outputs": [
    {
     "name": "stdout",
     "output_type": "stream",
     "text": [
      "\\begin{tabular}{ccccc}\\hline\\hline\n",
      " & & Olley-Pakes & & Wooldridge \\\\\\hline\n",
      " bunsk & & 0.199 & & 0.247 \\\\\n",
      " & & (0.025) & & (0.017) \\\\\n",
      " &  &  \\\\\n",
      " bsk & & 0.169 & & 0.217 \\\\\n",
      " & & (0.022) & & (0.015) \\\\\n",
      " &  &  \\\\\n",
      " bk & & 0.117 & & 0.058 \\\\\n",
      " & & (0.041) & & (0.031) \\\\\n",
      " &  &  \\\\\n",
      " &  &  \\\\\n",
      "N & & 2544 & & 1944 \\\\\\hline\\hline\n",
      "\\end{tabular}"
     ]
    }
   ],
   "source": [
    "# run various models\n",
    "WRDGfit <- prodestWRDG_GMM(chilean$Y, fX = cbind(chilean$fX1, chilean$fX2), chilean$sX, chilean$pX, chilean$idvar, chilean$timevar)\n",
    "\n",
    "OPfit <- prodestOP(chilean$Y, fX = cbind(chilean$fX1, chilean$fX2), chilean$sX, chilean$pX, chilean$idvar, chilean$timevar)\n",
    "\n",
    "# show the output in latex - tabular format\n",
    "printProd(list(OPfit, WRDGfit), modnames = c('Olley-Pakes', 'Wooldridge'),\n",
    "parnames = c('bunsk', 'bsk', 'bk'))"
   ]
  },
  {
   "cell_type": "markdown",
   "metadata": {},
   "source": [
    "$$\n",
    "\\begin{array}{ccccc}\\hline\\hline\n",
    " & & Olley-Pakes & & Wooldridge \\\\\\hline\n",
    " bunsk & & 0.199 & & 0.247 \\\\\n",
    " & & (0.025) & & (0.017) \\\\\n",
    " &  &  \\\\\n",
    " bsk & & 0.169 & & 0.217 \\\\\n",
    " & & (0.022) & & (0.015) \\\\\n",
    " &  &  \\\\\n",
    " bk & & 0.117 & & 0.058 \\\\\n",
    " & & (0.041) & & (0.031) \\\\\n",
    " &  &  \\\\\n",
    " &  &  \\\\\n",
    "N & & 2544 & & 1944 \\\\\\hline\\hline\n",
    "\\end{array}\n",
    "$$"
   ]
  },
  {
   "cell_type": "markdown",
   "metadata": {},
   "source": [
    "# prodestACF"
   ]
  },
  {
   "cell_type": "code",
   "execution_count": 68,
   "metadata": {},
   "outputs": [],
   "source": [
    "# we fit a model with two free (skilled and unskilled), one state (capital)\n",
    "# and one proxy variable (electricity)\n",
    "ACF.fit <- prodestACF(chilean$Y, fX = cbind(chilean$fX1, chilean$fX2), chilean$sX, chilean$pX, chilean$idvar, chilean$timevar,\n",
    "                      theta0 = c(.5,.5,.5), seed = 154673, R = 5)\n",
    "\n",
    "# require('Rsolnp')\n",
    "# There are three second-stage optization options 'optim', 'DEoptim' or 'solnp'\n",
    "ACF.fit.DEoptim <- prodestACF(chilean$Y, fX = cbind(chilean$fX1, chilean$fX2), chilean$sX, chilean$pX, chilean$idvar, \n",
    "                            chilean$timevar, theta0 = c(.5,.5,.5), opt = 'DEoptim', seed = 154673)"
   ]
  },
  {
   "cell_type": "code",
   "execution_count": 69,
   "metadata": {},
   "outputs": [],
   "source": [
    "# run the same regression in parallel\n",
    "nCores <- as.numeric(Sys.getenv(\"NUMBER_OF_PROCESSORS\"))\n",
    "cl <- makeCluster(getOption(\"cl.cores\", nCores - 1))\n",
    "\n",
    "ACF.fit.par <- prodestACF(chilean$Y, fX = cbind(chilean$fX1, chilean$fX2), chilean$sX, chilean$pX, chilean$idvar, \n",
    "                          chilean$timevar, theta0 = c(.5,.5,.5), cluster = cl, seed = 154673)\n",
    "stopCluster(cl)"
   ]
  },
  {
   "cell_type": "code",
   "execution_count": 70,
   "metadata": {},
   "outputs": [
    {
     "data": {
      "text/html": [
       "<dl class=dl-horizontal>\n",
       "\t<dt>fX1</dt>\n",
       "\t\t<dd>0.645663923424317</dd>\n",
       "\t<dt>fX2</dt>\n",
       "\t\t<dd>0.644015819636888</dd>\n",
       "\t<dt>sX1</dt>\n",
       "\t\t<dd>0.250829022428871</dd>\n",
       "</dl>\n"
      ],
      "text/latex": [
       "\\begin{description*}\n",
       "\\item[fX1] 0.645663923424317\n",
       "\\item[fX2] 0.644015819636888\n",
       "\\item[sX1] 0.250829022428871\n",
       "\\end{description*}\n"
      ],
      "text/markdown": [
       "fX1\n",
       ":   0.645663923424317fX2\n",
       ":   0.644015819636888sX1\n",
       ":   0.250829022428871\n",
       "\n"
      ],
      "text/plain": [
       "      fX1       fX2       sX1 \n",
       "0.6456639 0.6440158 0.2508290 "
      ]
     },
     "metadata": {},
     "output_type": "display_data"
    },
    {
     "data": {
      "text/html": [
       "<dl class=dl-horizontal>\n",
       "\t<dt>fX1</dt>\n",
       "\t\t<dd>0.604962560955269</dd>\n",
       "\t<dt>fX2</dt>\n",
       "\t\t<dd>0.500000000197398</dd>\n",
       "\t<dt>sX1</dt>\n",
       "\t\t<dd>0.500000000018029</dd>\n",
       "</dl>\n"
      ],
      "text/latex": [
       "\\begin{description*}\n",
       "\\item[fX1] 0.604962560955269\n",
       "\\item[fX2] 0.500000000197398\n",
       "\\item[sX1] 0.500000000018029\n",
       "\\end{description*}\n"
      ],
      "text/markdown": [
       "fX1\n",
       ":   0.604962560955269fX2\n",
       ":   0.500000000197398sX1\n",
       ":   0.500000000018029\n",
       "\n"
      ],
      "text/plain": [
       "      fX1       fX2       sX1 \n",
       "0.6049626 0.5000000 0.5000000 "
      ]
     },
     "metadata": {},
     "output_type": "display_data"
    },
    {
     "data": {
      "text/html": [
       "<dl class=dl-horizontal>\n",
       "\t<dt>fX1</dt>\n",
       "\t\t<dd>0.645663923424317</dd>\n",
       "\t<dt>fX2</dt>\n",
       "\t\t<dd>0.644015819636888</dd>\n",
       "\t<dt>sX1</dt>\n",
       "\t\t<dd>0.250829022428871</dd>\n",
       "</dl>\n"
      ],
      "text/latex": [
       "\\begin{description*}\n",
       "\\item[fX1] 0.645663923424317\n",
       "\\item[fX2] 0.644015819636888\n",
       "\\item[sX1] 0.250829022428871\n",
       "\\end{description*}\n"
      ],
      "text/markdown": [
       "fX1\n",
       ":   0.645663923424317fX2\n",
       ":   0.644015819636888sX1\n",
       ":   0.250829022428871\n",
       "\n"
      ],
      "text/plain": [
       "      fX1       fX2       sX1 \n",
       "0.6456639 0.6440158 0.2508290 "
      ]
     },
     "metadata": {},
     "output_type": "display_data"
    }
   ],
   "source": [
    "# show results\n",
    "coef(ACF.fit)\n",
    "coef(ACF.fit.DEoptim)\n",
    "coef(ACF.fit.par)"
   ]
  },
  {
   "cell_type": "markdown",
   "metadata": {},
   "source": [
    "## Productivity residuals\n",
    "`omega()` generates the residuals of the second stage, namely, the estimates of the log productivity term."
   ]
  },
  {
   "cell_type": "code",
   "execution_count": 91,
   "metadata": {},
   "outputs": [],
   "source": [
    "# ACF.fit.coef <- coef(ACF.fit)\n",
    "# chilean$Y - ACF.fit.coef[3]*chilean$sX - ACF.fit.coef[1]*cbind(chilean$fX1, chilean$fX2) - ACF.fit.coef[2]*chilean$pX\n",
    "# chilean$Y - ACF.fit.coef[3]*chilean$sX - ACF.fit.coef[1]*chilean$fX1 - ACF.fit.coef[2]*chilean$pX"
   ]
  },
  {
   "cell_type": "code",
   "execution_count": 93,
   "metadata": {},
   "outputs": [
    {
     "data": {
      "text/html": [
       "<table>\n",
       "<tbody>\n",
       "\t<tr><td>8.839287</td></tr>\n",
       "\t<tr><td>8.842266</td></tr>\n",
       "\t<tr><td>7.974823</td></tr>\n",
       "\t<tr><td>5.675719</td></tr>\n",
       "\t<tr><td>5.712817</td></tr>\n",
       "\t<tr><td>7.270977</td></tr>\n",
       "</tbody>\n",
       "</table>\n"
      ],
      "text/latex": [
       "\\begin{tabular}{l}\n",
       "\t 8.839287\\\\\n",
       "\t 8.842266\\\\\n",
       "\t 7.974823\\\\\n",
       "\t 5.675719\\\\\n",
       "\t 5.712817\\\\\n",
       "\t 7.270977\\\\\n",
       "\\end{tabular}\n"
      ],
      "text/markdown": [
       "\n",
       "| 8.839287 | \n",
       "| 8.842266 | \n",
       "| 7.974823 | \n",
       "| 5.675719 | \n",
       "| 5.712817 | \n",
       "| 7.270977 | \n",
       "\n",
       "\n"
      ],
      "text/plain": [
       "     [,1]    \n",
       "[1,] 8.839287\n",
       "[2,] 8.842266\n",
       "[3,] 7.974823\n",
       "[4,] 5.675719\n",
       "[5,] 5.712817\n",
       "[6,] 7.270977"
      ]
     },
     "metadata": {},
     "output_type": "display_data"
    }
   ],
   "source": [
    "head(omega(ACF.fit)) #omega is a built in function that runs the above equation to get tfp estimates"
   ]
  },
  {
   "cell_type": "code",
   "execution_count": 73,
   "metadata": {},
   "outputs": [
    {
     "name": "stdout",
     "output_type": "stream",
     "text": [
      "\\begin{tabular}{ccccc}\\hline\\hline\n",
      " & & ACF & & ACF \\\\\\hline\n",
      " fX1 & & 0.646 & & 0.605 \\\\\n",
      " & & (0.302) & & (0.174) \\\\\n",
      " &  &  \\\\\n",
      " fX2 & & 0.644 & & 0.5 \\\\\n",
      " & & (0.193) & & (0.126) \\\\\n",
      " &  &  \\\\\n",
      " sX1 & & 0.251 & & 0.5 \\\\\n",
      " & & (0.063) & & (0) \\\\\n",
      " &  &  \\\\\n",
      " &  &  \\\\\n",
      "N & & 2544 & & 2544 \\\\\\hline\\hline\n",
      "\\end{tabular}"
     ]
    }
   ],
   "source": [
    "# show results in .tex tabular format\n",
    "printProd(list(ACF.fit, ACF.fit.DEoptim))"
   ]
  },
  {
   "cell_type": "markdown",
   "metadata": {},
   "source": [
    "$$\n",
    "\\begin{array}{ccccc}\\hline\\hline\n",
    " & & ACF & & ACF \\\\\\hline\n",
    " fX1 & & 0.646 & & NA \\\\\n",
    " & & (0.302) & & (0.169) \\\\\n",
    " &  &  \\\\\n",
    " fX2 & & 0.644 & & NA \\\\\n",
    " & & (0.193) & & (0.292) \\\\\n",
    " &  &  \\\\\n",
    " sX1 & & 0.251 & & NA \\\\\n",
    " & & (0.063) & & (0.052) \\\\\n",
    " &  &  \\\\\n",
    " &  &  \\\\\n",
    "N & & 2544 & & 2544 \\\\\\hline\\hline\n",
    "\\end{array}\n",
    "$$"
   ]
  },
  {
   "cell_type": "markdown",
   "metadata": {},
   "source": [
    "# prodestLP"
   ]
  },
  {
   "cell_type": "code",
   "execution_count": 74,
   "metadata": {},
   "outputs": [],
   "source": [
    "# we fit a model with two free (skilled and unskilled), one state (capital)\n",
    "# and one proxy variable (electricity)\n",
    "LP.fit <- prodestLP(chilean$Y, fX = cbind(chilean$fX1, chilean$fX2), chilean$sX,chilean$pX, chilean$idvar, \n",
    "                    chilean$timevar, seed = 154673)\n",
    "\n",
    "LP.fit.solnp <- prodestLP(chilean$Y, fX = cbind(chilean$fX1, chilean$fX2), chilean$sX, chilean$pX, \n",
    "                          chilean$idvar, chilean$timevar, opt = 'solnp')\n",
    "\n",
    "## Not run:\n",
    "# run the same model in parallel\n",
    "require(parallel)\n",
    "nCores <- as.numeric(Sys.getenv(\"NUMBER_OF_PROCESSORS\"))\n",
    "cl <- makeCluster(getOption(\"cl.cores\", nCores - 1))\n",
    "\n",
    "LP.fit.par <- prodestLP(chilean$Y, fX = cbind(chilean$fX1, chilean$fX2), chilean$sX, chilean$pX, chilean$idvar, \n",
    "                        chilean$timevar, cluster = cl, seed = 154673)\n",
    "stopCluster(cl)\n",
    "## End(Not run)"
   ]
  },
  {
   "cell_type": "code",
   "execution_count": 75,
   "metadata": {},
   "outputs": [
    {
     "data": {
      "text/plain": [
       "Length  Class   Mode \n",
       "     1   prod     S4 "
      ]
     },
     "metadata": {},
     "output_type": "display_data"
    },
    {
     "data": {
      "text/plain": [
       "Length  Class   Mode \n",
       "     1   prod     S4 "
      ]
     },
     "metadata": {},
     "output_type": "display_data"
    }
   ],
   "source": [
    "# show results\n",
    "summary(LP.fit)\n",
    "summary(LP.fit.solnp)"
   ]
  },
  {
   "cell_type": "code",
   "execution_count": 76,
   "metadata": {},
   "outputs": [
    {
     "name": "stdout",
     "output_type": "stream",
     "text": [
      "\n",
      "-------------------------------------------------------\n",
      "-            Production Function Estimation           -\n",
      "-------------------------------------------------------\n",
      "                   Method:    LP              \n",
      "-------------------------------------------------------\n",
      "                         fX1       fX2       sX1 \n",
      "Estimated Parameters:   0.199     0.169     0.117 \n",
      "                       (0.024)   (0.024)   (0.045)\n",
      "-------------------------------------------------------\n",
      "-------------------------------------------------------\n",
      "-            Production Function Estimation           -\n",
      "-------------------------------------------------------\n",
      "                   Method:    LP              \n",
      "-------------------------------------------------------\n",
      "                         fX1       fX2       sX1 \n",
      "Estimated Parameters:   0.199     0.169     0.117 \n",
      "                       (0.025)   (0.022)   (0.041)\n",
      "-------------------------------------------------------"
     ]
    }
   ],
   "source": [
    "show(LP.fit)\n",
    "show(LP.fit.solnp)"
   ]
  },
  {
   "cell_type": "code",
   "execution_count": 77,
   "metadata": {},
   "outputs": [
    {
     "name": "stdout",
     "output_type": "stream",
     "text": [
      "\\begin{tabular}{ccccc}\\hline\\hline\n",
      " & & LP & & LP \\\\\\hline\n",
      " fX1 & & 0.199 & & 0.199 \\\\\n",
      " & & (0.024) & & (0.025) \\\\\n",
      " &  &  \\\\\n",
      " fX2 & & 0.169 & & 0.169 \\\\\n",
      " & & (0.024) & & (0.022) \\\\\n",
      " &  &  \\\\\n",
      " sX1 & & 0.117 & & 0.117 \\\\\n",
      " & & (0.045) & & (0.041) \\\\\n",
      " &  &  \\\\\n",
      " &  &  \\\\\n",
      "N & & 2544 & & 2544 \\\\\\hline\\hline\n",
      "\\end{tabular}"
     ]
    }
   ],
   "source": [
    "# show results in .tex tabular format\n",
    "printProd(list(LP.fit, LP.fit.solnp))"
   ]
  },
  {
   "cell_type": "markdown",
   "metadata": {},
   "source": [
    "$$\n",
    "\\begin{array}{ccccc}\\hline\\hline\n",
    " & & LP & & LP \\\\\\hline\n",
    " fX1 & & 0.199 & & 0.199 \\\\\n",
    " & & (0.024) & & (0.025) \\\\\n",
    " &  &  \\\\\n",
    " fX2 & & 0.169 & & 0.169 \\\\\n",
    " & & (0.024) & & (0.022) \\\\\n",
    " &  &  \\\\\n",
    " sX1 & & 0.117 & & 0.117 \\\\\n",
    " & & (0.045) & & (0.041) \\\\\n",
    " &  &  \\\\\n",
    " &  &  \\\\\n",
    "N & & 2544 & & 2544 \\\\\\hline\\hline\n",
    "\\end{array}\n",
    "$$"
   ]
  },
  {
   "cell_type": "markdown",
   "metadata": {},
   "source": [
    "# prodestOP"
   ]
  },
  {
   "cell_type": "code",
   "execution_count": 78,
   "metadata": {},
   "outputs": [],
   "source": [
    "# we fit a model with two free (skilled and unskilled), one state (capital)\n",
    "# and one proxy variable (electricity)\n",
    "OP.fit <- prodestOP(chilean$Y, fX = cbind(chilean$fX1, chilean$fX2), chilean$sX,\n",
    "chilean$inv, chilean$idvar, chilean$timevar)\n",
    "OP.fit.solnp <- prodestOP(chilean$Y, fX = cbind(chilean$fX1, chilean$fX2),\n",
    "chilean$sX, chilean$inv, chilean$idvar,\n",
    "chilean$timevar, opt='solnp')\n",
    "OP.fit.control <- prodestOP(chilean$Y, fX = cbind(chilean$fX1, chilean$fX2),\n",
    "chilean$sX, chilean$inv, chilean$idvar,\n",
    "chilean$timevar, cX = chilean$cX)"
   ]
  },
  {
   "cell_type": "code",
   "execution_count": 79,
   "metadata": {},
   "outputs": [
    {
     "data": {
      "text/plain": [
       "Length  Class   Mode \n",
       "     1   prod     S4 "
      ]
     },
     "metadata": {},
     "output_type": "display_data"
    },
    {
     "data": {
      "text/plain": [
       "Length  Class   Mode \n",
       "     1   prod     S4 "
      ]
     },
     "metadata": {},
     "output_type": "display_data"
    },
    {
     "data": {
      "text/plain": [
       "Length  Class   Mode \n",
       "     1   prod     S4 "
      ]
     },
     "metadata": {},
     "output_type": "display_data"
    }
   ],
   "source": [
    "# show results\n",
    "summary(OP.fit)\n",
    "summary(OP.fit.solnp)\n",
    "summary(OP.fit.control)"
   ]
  },
  {
   "cell_type": "code",
   "execution_count": 80,
   "metadata": {},
   "outputs": [
    {
     "name": "stdout",
     "output_type": "stream",
     "text": [
      "\\begin{tabular}{ccccccc}\\hline\\hline\n",
      " & & OP & & OP & & OP \\\\\\hline\n",
      " fX1 & & 0.314 & & 0.314 & & 0.314 \\\\\n",
      " & & (0.034) & & (0.034) & & (0.034) \\\\\n",
      " &  &  &  \\\\\n",
      " fX2 & & 0.256 & & 0.256 & & 0.256 \\\\\n",
      " & & (0.036) & & (0.036) & & (0.036) \\\\\n",
      " &  &  &  \\\\\n",
      " sX1 & & 0.168 & & 0.165 & & 0.168 \\\\\n",
      " & & (0.028) & & (0.03) & & (0.028) \\\\\n",
      " &  &  &  \\\\\n",
      " &  &  &  \\\\\n",
      "N & & 2544 & & 2544 & & 2544 \\\\\\hline\\hline\n",
      "\\end{tabular}"
     ]
    }
   ],
   "source": [
    "# show results in .tex tabular format\n",
    "printProd(list(OP.fit, OP.fit.solnp, OP.fit.control))"
   ]
  },
  {
   "cell_type": "markdown",
   "metadata": {},
   "source": [
    "\\begin{array}{ccccccc}\\hline\\hline\n",
    " & & OP & & OP & & OP \\\\\\hline\n",
    " fX1 & & 0.314 & & 0.314 & & 0.314 \\\\\n",
    " & & (0.034) & & (0.034) & & (0.034) \\\\\n",
    " &  &  &  \\\\\n",
    " fX2 & & 0.256 & & 0.256 & & 0.256 \\\\\n",
    " & & (0.036) & & (0.036) & & (0.036) \\\\\n",
    " &  &  &  \\\\\n",
    " sX1 & & 0.168 & & 0.165 & & 0.168 \\\\\n",
    " & & (0.028) & & (0.03) & & (0.028) \\\\\n",
    " &  &  &  \\\\\n",
    " &  &  &  \\\\\n",
    "N & & 2544 & & 2544 & & 2544 \\\\\\hline\\hline\n",
    "\\end{array}"
   ]
  },
  {
   "cell_type": "markdown",
   "metadata": {},
   "source": [
    "# prodestWRDG"
   ]
  },
  {
   "cell_type": "code",
   "execution_count": 81,
   "metadata": {},
   "outputs": [
    {
     "data": {
      "text/plain": [
       "\n",
       "-------------------------------------------------------\n",
       "-            Production Function Estimation           -\n",
       "-------------------------------------------------------\n",
       "                   Method:    WRDG              \n",
       "-------------------------------------------------------\n",
       "                         fX1       sX1 \n",
       "Estimated Parameters:   0.092     0.055 \n",
       "                       (0.025)   (0.078)\n",
       "-------------------------------------------------------"
      ]
     },
     "metadata": {},
     "output_type": "display_data"
    }
   ],
   "source": [
    "# we fit a model with one free (unskilled), one state (capital)\n",
    "# and one proxy variable (electricity)\n",
    "WRDG.fit <- prodestWRDG(chilean$Y, chilean$fX1, chilean$sX, chilean$pX, chilean$idvar, chilean$timevar)\n",
    "# show results\n",
    "WRDG.fit"
   ]
  },
  {
   "cell_type": "code",
   "execution_count": 82,
   "metadata": {},
   "outputs": [
    {
     "name": "stdout",
     "output_type": "stream",
     "text": [
      "\\begin{tabular}{ccccccccc}\\hline\\hline\n",
      " & & WRDG & & WRDG & & WRDG & & WRDG \\\\\\hline\n",
      " Free & & 0.474 & & 0.758 & & 0.84 & & 0.906 \\\\\n",
      " & & (0.013) & & (0.007) & & (0.006) & & (0.004) \\\\\n",
      " &  &  &  &  \\\\\n",
      " State & & 0.957 & & 0.707 & & 0.585 & & 0.422 \\\\\n",
      " & & (0.218) & & (0.143) & & (0.119) & & (0.089) \\\\\n",
      " &  &  &  &  \\\\\n",
      " &  &  &  &  \\\\\n",
      "N & & 10000 & & 10000 & & 10000 & & 10000 \\\\\\hline\\hline\n",
      "\\end{tabular}"
     ]
    }
   ],
   "source": [
    "# Takes a long time to run\n",
    "\n",
    "# estimate a panel dataset - DGP1, various measurement errors - and run the estimation\n",
    "sim <- panelSim()\n",
    "WRDG.sim1 <- prodestWRDG(sim$Y, sim$fX, sim$sX, sim$pX1, sim$idvar, sim$timevar)\n",
    "WRDG.sim2 <- prodestWRDG(sim$Y, sim$fX, sim$sX, sim$pX2, sim$idvar, sim$timevar)\n",
    "WRDG.sim3 <- prodestWRDG(sim$Y, sim$fX, sim$sX, sim$pX3, sim$idvar, sim$timevar)\n",
    "WRDG.sim4 <- prodestWRDG(sim$Y, sim$fX, sim$sX, sim$pX4, sim$idvar, sim$timevar)\n",
    "\n",
    "# show results in .tex tabular format\n",
    "printProd(list(WRDG.sim1, WRDG.sim2, WRDG.sim3, WRDG.sim4), parnames = c('Free','State'))"
   ]
  },
  {
   "cell_type": "markdown",
   "metadata": {},
   "source": [
    "$$\n",
    "\\begin{array}{ccccccccc}\\hline\\hline\n",
    " & & WRDG & & WRDG & & WRDG & & WRDG \\\\\\hline\n",
    " Free & & 0.474 & & 0.758 & & 0.84 & & 0.906 \\\\\n",
    " & & (0.013) & & (0.007) & & (0.006) & & (0.004) \\\\\n",
    " &  &  &  &  \\\\\n",
    " State & & 0.957 & & 0.707 & & 0.585 & & 0.422 \\\\\n",
    " & & (0.218) & & (0.143) & & (0.119) & & (0.089) \\\\\n",
    " &  &  &  &  \\\\\n",
    " &  &  &  &  \\\\\n",
    "N & & 10000 & & 10000 & & 10000 & & 10000 \\\\\\hline\\hline\n",
    "\\end{array}\n",
    "$$"
   ]
  },
  {
   "cell_type": "markdown",
   "metadata": {},
   "source": [
    "# prodestWRDG_GMM"
   ]
  },
  {
   "cell_type": "code",
   "execution_count": 83,
   "metadata": {},
   "outputs": [
    {
     "data": {
      "text/plain": [
       "\n",
       "-------------------------------------------------------\n",
       "-            Production Function Estimation           -\n",
       "-------------------------------------------------------\n",
       "                   Method:    WRDG              \n",
       "-------------------------------------------------------\n",
       "                         fX1       fX2       sX1 \n",
       "Estimated Parameters:   0.247     0.217     0.058 \n",
       "                       (0.017)   (0.015)   (0.031)\n",
       "-------------------------------------------------------"
      ]
     },
     "metadata": {},
     "output_type": "display_data"
    }
   ],
   "source": [
    "# we fit a model with two free (skilled and unskilled), one state (capital)\n",
    "# and one proxy variable (electricity)\n",
    "WRDG.GMM.fit <- prodestWRDG_GMM(chilean$Y, fX = cbind(chilean$fX1, chilean$fX2), chilean$sX, chilean$pX, chilean$idvar, \n",
    "                                chilean$timevar)\n",
    "# show results\n",
    "WRDG.GMM.fit"
   ]
  },
  {
   "cell_type": "code",
   "execution_count": 84,
   "metadata": {},
   "outputs": [
    {
     "name": "stdout",
     "output_type": "stream",
     "text": [
      "\\begin{tabular}{ccccccccc}\\hline\\hline\n",
      " & & WRDG & & WRDG & & WRDG & & WRDG \\\\\\hline\n",
      " Free & & 0.474 & & 0.758 & & 0.84 & & 0.906 \\\\\n",
      " & & (0.013) & & (0.008) & & (0.007) & & (0.005) \\\\\n",
      " &  &  &  &  \\\\\n",
      " State & & 0.957 & & 0.707 & & 0.585 & & 0.422 \\\\\n",
      " & & (0.072) & & (0.065) & & (0.063) & & (0.06) \\\\\n",
      " &  &  &  &  \\\\\n",
      " &  &  &  &  \\\\\n",
      "N & & 9000 & & 9000 & & 9000 & & 9000 \\\\\\hline\\hline\n",
      "\\end{tabular}"
     ]
    }
   ],
   "source": [
    "# estimate a panel dataset - DGP1, various measurement errors - and run the estimation\n",
    "sim <- panelSim()\n",
    "WRDG.GMM.sim1 <- prodestWRDG_GMM(sim$Y, sim$fX, sim$sX, sim$pX1, sim$idvar, sim$timevar)\n",
    "WRDG.GMM.sim2 <- prodestWRDG_GMM(sim$Y, sim$fX, sim$sX, sim$pX2, sim$idvar, sim$timevar)\n",
    "WRDG.GMM.sim3 <- prodestWRDG_GMM(sim$Y, sim$fX, sim$sX, sim$pX3, sim$idvar, sim$timevar)\n",
    "WRDG.GMM.sim4 <- prodestWRDG_GMM(sim$Y, sim$fX, sim$sX, sim$pX4, sim$idvar, sim$timevar)\n",
    "# show results in .tex tabular format\n",
    "printProd(list(WRDG.GMM.sim1, WRDG.GMM.sim2, WRDG.GMM.sim3, WRDG.GMM.sim4),\n",
    "parnames = c('Free','State'))"
   ]
  },
  {
   "cell_type": "markdown",
   "metadata": {},
   "source": [
    "$$\n",
    "\\begin{array}{ccccccccc}\\hline\\hline\n",
    " & & WRDG & & WRDG & & WRDG & & WRDG \\\\\\hline\n",
    " Free & & 0.474 & & 0.758 & & 0.84 & & 0.906 \\\\\n",
    " & & (0.013) & & (0.008) & & (0.007) & & (0.005) \\\\\n",
    " &  &  &  &  \\\\\n",
    " State & & 0.957 & & 0.707 & & 0.585 & & 0.422 \\\\\n",
    " & & (0.072) & & (0.065) & & (0.063) & & (0.06) \\\\\n",
    " &  &  &  &  \\\\\n",
    " &  &  &  &  \\\\\n",
    "N & & 9000 & & 9000 & & 9000 & & 9000 \\\\\\hline\\hline\n",
    "\\end{array}\n",
    "$$"
   ]
  },
  {
   "cell_type": "markdown",
   "metadata": {},
   "source": [
    "# R Vignette Paper\n",
    "\n",
    "From the R Vignette Paper. Needs many adjustments to run. "
   ]
  },
  {
   "cell_type": "code",
   "execution_count": 85,
   "metadata": {},
   "outputs": [],
   "source": [
    "# OP <- prodestOP(Y, fX, sX, chilean$inv, idvar, timevar, R = 20)\n",
    "OP <- prodestOP(chilean$Y, fX = cbind(chilean$fX1, chilean$fX2), chilean$sX, chilean$inv, chilean$idvar, chilean$timevar, \n",
    "                R = 20)\n",
    "\n",
    "# LP <- prodestLP(chilean$Y, chilean$fX, chilean$sX, chilean$pX, chilean$idvar, chilean$timevar, R = 20)\n",
    "LP <- prodestLP(chilean$Y, fX = cbind(chilean$fX1, chilean$fX2), chilean$sX, chilean$pX, chilean$idvar, chilean$timevar, \n",
    "                R = 20)\n",
    "\n",
    "# ACF <- prodestACF(Y, fX, sX, pX, idvar, timevar, R = 20, theta0 = (c(.5,.5,.5)))\n",
    "ACF <- prodestACF(chilean$Y, fX = cbind(chilean$fX1, chilean$fX2), chilean$sX, chilean$pX, chilean$idvar, chilean$timevar, \n",
    "                  theta0 = c(.5,.5,.5), R=20)\n",
    "\n",
    "# WRDG <- prodestWRDG(Y, fX, sX, pX, idvar, timevar, R = 5)\n",
    "WRDG <- prodestWRDG(chilean$Y, chilean$fX1, chilean$sX, chilean$pX, chilean$idvar, chilean$timevar, R=5)\n",
    "\n",
    "# WRDG.GMM <- prodestWRDG_GMM(Y, fX, sX, pX, idvar, timevar, R = 5)\n",
    "WRDG.GMM <- prodestWRDG_GMM(chilean$Y, fX = cbind(chilean$fX1, chilean$fX2), chilean$sX, chilean$pX, chilean$idvar, \n",
    "                            chilean$timevar)"
   ]
  },
  {
   "cell_type": "code",
   "execution_count": 86,
   "metadata": {},
   "outputs": [
    {
     "name": "stdout",
     "output_type": "stream",
     "text": [
      "\\begin{tabular}{ccccccccccc}\\hline\\hline\n",
      " & & OP & & LP & & ACF & & WRDG & & WRDG.GMM \\\\\\hline\n",
      " $\\beta_{skil}$ & & 0.314 & & 0.199 & & 0.646 & & 0.092 & & 0.247 \\\\\n",
      " & & (0.034) & & (0.025) & & (0.161) & & (0.015) & & (0.017) \\\\\n",
      " &  &  &  &  &  \\\\\n",
      " $\\beta_{unskil}$ & & 0.256 & & 0.169 & & 0.644 & & 0.055 & & 0.217 \\\\\n",
      " & & (0.036) & & (0.022) & & (0.196) & & (0.118) & & (0.015) \\\\\n",
      " &  &  &  &  &  \\\\\n",
      " $\\beta_{k}$ & & 0.168 & & 0.117 & & 0.251 & & NA & & 0.058 \\\\\n",
      " & & (0.028) & & (0.041) & & (0.033) & & (NA) & & (0.031) \\\\\n",
      " &  &  &  &  &  \\\\\n",
      " &  &  &  &  &  \\\\\n",
      "N & & 2544 & & 2544 & & 2544 & & 2544 & & 1944 \\\\\\hline\\hline\n",
      "\\end{tabular}"
     ]
    }
   ],
   "source": [
    "printProd(list(OP,LP,ACF,WRDG,WRDG.GMM), modnames = c('OP','LP','ACF','WRDG','WRDG.GMM'), \n",
    "          parnames = c('$\\\\beta_{skil}$','$\\\\beta_{unskil}$','$\\\\beta_{k}$'))"
   ]
  },
  {
   "cell_type": "markdown",
   "metadata": {},
   "source": [
    "$$\n",
    "\\begin{array}{ccccccccccc}\\hline\\hline\n",
    " & & OP & & LP & & ACF & & WRDG & & WRDG.GMM \\\\\\hline\n",
    " \\beta_{skil} & & 0.314 & & 0.199 & & 0.646 & & 0.092 & & 0.247 \\\\\n",
    " & & (0.034) & & (0.025) & & (0.161) & & (0.015) & & (0.017) \\\\\n",
    " &  &  &  &  &  \\\\\n",
    " \\beta_{unskil} & & 0.256 & & 0.169 & & 0.644 & & 0.055 & & 0.217 \\\\\n",
    " & & (0.036) & & (0.022) & & (0.196) & & (0.118) & & (0.015) \\\\\n",
    " &  &  &  &  &  \\\\\n",
    " \\beta_{k} & & 0.168 & & 0.117 & & 0.251 & & NA & & 0.058 \\\\\n",
    " & & (0.028) & & (0.041) & & (0.033) & & (NA) & & (0.031) \\\\\n",
    " &  &  &  &  &  \\\\\n",
    " &  &  &  &  &  \\\\\n",
    "N & & 2544 & & 2544 & & 2544 & & 2544 & & 1944 \\\\\\hline\\hline\n",
    "\\end{array}\n",
    "$$"
   ]
  }
 ],
 "metadata": {
  "kernelspec": {
   "display_name": "R",
   "language": "R",
   "name": "ir"
  },
  "language_info": {
   "codemirror_mode": "r",
   "file_extension": ".r",
   "mimetype": "text/x-r-source",
   "name": "R",
   "pygments_lexer": "r",
   "version": "3.4.3"
  },
  "latex_envs": {
   "LaTeX_envs_menu_present": true,
   "autoclose": false,
   "autocomplete": true,
   "bibliofile": "biblio.bib",
   "cite_by": "apalike",
   "current_citInitial": 1,
   "eqLabelWithNumbers": true,
   "eqNumInitial": 1,
   "hotkeys": {
    "equation": "Ctrl-E",
    "itemize": "Ctrl-I"
   },
   "labels_anchors": false,
   "latex_user_defs": false,
   "report_style_numbering": false,
   "user_envs_cfg": false
  }
 },
 "nbformat": 4,
 "nbformat_minor": 2
}
